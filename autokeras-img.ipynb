{
 "cells": [
  {
   "cell_type": "code",
   "execution_count": null,
   "metadata": {},
   "outputs": [],
   "source": [
    "import autokeras as ak\n",
    "import pandas as pd\n",
    "from PIL import Image\n",
    "import glob\n",
    "from tqdm import tqdm\n",
    "import numpy as np"
   ]
  },
  {
   "cell_type": "code",
   "execution_count": null,
   "metadata": {},
   "outputs": [],
   "source": [
    "df_train = pd.read_csv(\"data/train.csv\")\n",
    "y_train = df_train['Pawpularity'].to_numpy()\n",
    "\n",
    "data_dir = \"data/train_resized/*.jpg\"\n",
    "\n",
    "train_data = []"
   ]
  },
  {
   "cell_type": "code",
   "execution_count": null,
   "metadata": {},
   "outputs": [],
   "source": [
    "for filename in tqdm(glob.glob(data_dir)):\n",
    "    temp = Image.open(filename)\n",
    "    keep = np.asarray(temp.copy())\n",
    "    train_data.append(keep)\n",
    "    temp.close()"
   ]
  },
  {
   "cell_type": "code",
   "execution_count": null,
   "metadata": {},
   "outputs": [],
   "source": [
    "train_data = np.asarray(train_data)\n",
    "reg = ak.ImageRegressor(overwrite=True, max_trials=1)"
   ]
  },
  {
   "cell_type": "code",
   "execution_count": null,
   "metadata": {},
   "outputs": [],
   "source": [
    "reg.fit(train_data, y_train, epochs=1)"
   ]
  }
 ],
 "metadata": {
  "interpreter": {
   "hash": "0775009afc412a424ee093143b8de0a71be8415e2806803844175542c6116fbc"
  },
  "kernelspec": {
   "display_name": "Python 3.9.4 64-bit ('env-pawpularity': venv)",
   "name": "python3"
  },
  "language_info": {
   "codemirror_mode": {
    "name": "ipython",
    "version": 3
   },
   "file_extension": ".py",
   "mimetype": "text/x-python",
   "name": "python",
   "nbconvert_exporter": "python",
   "pygments_lexer": "ipython3",
   "version": "3.9.4"
  },
  "orig_nbformat": 4
 },
 "nbformat": 4,
 "nbformat_minor": 2
}
