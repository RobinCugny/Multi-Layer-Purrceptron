{
 "cells": [
  {
   "cell_type": "code",
   "execution_count": 12,
   "metadata": {},
   "outputs": [],
   "source": [
    "import autokeras as ak\n",
    "import numpy as np"
   ]
  },
  {
   "cell_type": "code",
   "execution_count": 13,
   "metadata": {},
   "outputs": [],
   "source": [
    "train_file_path = \"data/train.csv\"\n",
    "test_file_path = \"data/test.csv\""
   ]
  },
  {
   "cell_type": "code",
   "execution_count": 14,
   "metadata": {},
   "outputs": [],
   "source": [
    "reg = ak.StructuredDataRegressor(\n",
    "    overwrite=True, max_trials=20\n",
    ")"
   ]
  },
  {
   "cell_type": "code",
   "execution_count": 15,
   "metadata": {},
   "outputs": [
    {
     "name": "stdout",
     "output_type": "stream",
     "text": [
      "Trial 20 Complete [00h 00m 06s]\n",
      "val_loss: 427.1990966796875\n",
      "\n",
      "Best val_loss So Far: 417.344482421875\n",
      "Total elapsed time: 00h 01m 58s\n",
      "INFO:tensorflow:Oracle triggered exit\n",
      "Epoch 1/10\n",
      "310/310 [==============================] - 1s 1ms/step - loss: 966.2414 - mean_squared_error: 966.2414\n",
      "Epoch 2/10\n",
      "310/310 [==============================] - 0s 997us/step - loss: 487.4567 - mean_squared_error: 487.4567\n",
      "Epoch 3/10\n",
      "310/310 [==============================] - 0s 877us/step - loss: 479.0121 - mean_squared_error: 479.0121\n",
      "Epoch 4/10\n",
      "310/310 [==============================] - 0s 946us/step - loss: 476.1403 - mean_squared_error: 476.1403\n",
      "Epoch 5/10\n",
      "310/310 [==============================] - 0s 1ms/step - loss: 470.7082 - mean_squared_error: 470.7082\n",
      "Epoch 6/10\n",
      "310/310 [==============================] - 0s 1ms/step - loss: 469.8958 - mean_squared_error: 469.8958\n",
      "Epoch 7/10\n",
      "310/310 [==============================] - 0s 1ms/step - loss: 468.7669 - mean_squared_error: 468.7669\n",
      "Epoch 8/10\n",
      "310/310 [==============================] - 0s 1ms/step - loss: 463.3800 - mean_squared_error: 463.3800\n",
      "Epoch 9/10\n",
      "310/310 [==============================] - 0s 1ms/step - loss: 465.7383 - mean_squared_error: 465.7383\n",
      "Epoch 10/10\n",
      "310/310 [==============================] - 0s 1ms/step - loss: 461.7532 - mean_squared_error: 461.7532\n",
      "INFO:tensorflow:Assets written to: .\\structured_data_regressor\\best_model\\assets\n"
     ]
    },
    {
     "data": {
      "text/plain": [
       "<tensorflow.python.keras.callbacks.History at 0x27c3edfbbe0>"
      ]
     },
     "execution_count": 15,
     "metadata": {},
     "output_type": "execute_result"
    }
   ],
   "source": [
    "reg.fit(\n",
    "    # The path to the train.csv file.\n",
    "    train_file_path,\n",
    "    # The name of the label column.\n",
    "    \"Pawpularity\",\n",
    "    epochs=10,\n",
    ")"
   ]
  },
  {
   "cell_type": "code",
   "execution_count": 17,
   "metadata": {},
   "outputs": [
    {
     "name": "stdout",
     "output_type": "stream",
     "text": [
      "1/1 [==============================] - 0s 6ms/step\n",
      "310/310 [==============================] - 0s 1ms/step - loss: 421.0658 - mean_squared_error: 421.0658\n",
      "[20.51988856 20.51988856]\n"
     ]
    }
   ],
   "source": [
    "# Predict with the best model.\n",
    "predicted_y = reg.predict(test_file_path)\n",
    "# Evaluate the best model with testing data.\n",
    "print(np.sqrt(reg.evaluate(train_file_path, \"Pawpularity\")))"
   ]
  },
  {
   "cell_type": "code",
   "execution_count": 19,
   "metadata": {},
   "outputs": [],
   "source": [
    "model=reg.export_model()"
   ]
  },
  {
   "cell_type": "code",
   "execution_count": 20,
   "metadata": {},
   "outputs": [
    {
     "data": {
      "text/plain": [
       "<tensorflow.python.keras.engine.functional.Functional at 0x27c3de7cb80>"
      ]
     },
     "execution_count": 20,
     "metadata": {},
     "output_type": "execute_result"
    }
   ],
   "source": [
    "model"
   ]
  },
  {
   "cell_type": "code",
   "execution_count": null,
   "metadata": {},
   "outputs": [],
   "source": []
  }
 ],
 "metadata": {
  "interpreter": {
   "hash": "0775009afc412a424ee093143b8de0a71be8415e2806803844175542c6116fbc"
  },
  "kernelspec": {
   "display_name": "Python 3.9.4 64-bit ('env-pawpularity': venv)",
   "name": "python3"
  },
  "language_info": {
   "codemirror_mode": {
    "name": "ipython",
    "version": 3
   },
   "file_extension": ".py",
   "mimetype": "text/x-python",
   "name": "python",
   "nbconvert_exporter": "python",
   "pygments_lexer": "ipython3",
   "version": "3.9.4"
  },
  "orig_nbformat": 4
 },
 "nbformat": 4,
 "nbformat_minor": 2
}
